{
  "nbformat": 4,
  "nbformat_minor": 0,
  "metadata": {
    "colab": {
      "provenance": [],
      "mount_file_id": "https://github.com/zerlin0/machinelearn/blob/main/machinelearning12.ipynb",
      "authorship_tag": "ABX9TyOg20+Nsa87YrFyZuqdfjuw",
      "include_colab_link": true
    },
    "kernelspec": {
      "name": "python3",
      "display_name": "Python 3"
    },
    "language_info": {
      "name": "python"
    }
  },
  "cells": [
    {
      "cell_type": "markdown",
      "metadata": {
        "id": "view-in-github",
        "colab_type": "text"
      },
      "source": [
        "<a href=\"https://colab.research.google.com/github/zerlin0/machinelearn/blob/main/machinelearning12.ipynb\" target=\"_parent\"><img src=\"https://colab.research.google.com/assets/colab-badge.svg\" alt=\"Open In Colab\"/></a>"
      ]
    },
    {
      "cell_type": "markdown",
      "source": [
        "# **OCR with Pytesseract and OpenCV**"
      ],
      "metadata": {
        "id": "0RMYIHHuHj9u"
      }
    },
    {
      "cell_type": "markdown",
      "source": [
        "Installation and Import Library"
      ],
      "metadata": {
        "id": "jFlrR5MOH2TM"
      }
    },
    {
      "cell_type": "code",
      "execution_count": 17,
      "metadata": {
        "id": "PEJU4uAXG1sZ",
        "outputId": "df5533a6-de3e-4740-a812-ade656b27144",
        "colab": {
          "base_uri": "https://localhost:8080/"
        }
      },
      "outputs": [
        {
          "output_type": "stream",
          "name": "stdout",
          "text": [
            "Reading package lists... Done\n",
            "Building dependency tree... Done\n",
            "Reading state information... Done\n",
            "tesseract-ocr is already the newest version (4.1.1-2.1build1).\n",
            "0 upgraded, 0 newly installed, 0 to remove and 8 not upgraded.\n",
            "Requirement already satisfied: pytesseract in /usr/local/lib/python3.10/dist-packages (0.3.10)\n",
            "Requirement already satisfied: packaging>=21.3 in /usr/local/lib/python3.10/dist-packages (from pytesseract) (23.2)\n",
            "Requirement already satisfied: Pillow>=8.0.0 in /usr/local/lib/python3.10/dist-packages (from pytesseract) (9.4.0)\n",
            "Requirement already satisfied: opencv-python in /usr/local/lib/python3.10/dist-packages (4.8.0.76)\n",
            "Requirement already satisfied: numpy>=1.21.2 in /usr/local/lib/python3.10/dist-packages (from opencv-python) (1.23.5)\n"
          ]
        }
      ],
      "source": [
        "!sudo apt install tesseract-ocr\n",
        "!pip install pytesseract\n",
        "!pip install opencv-python"
      ]
    },
    {
      "cell_type": "code",
      "source": [
        "import re\n",
        "import cv2\n",
        "import numpy as np\n",
        "import pytesseract\n",
        "from pytesseract import Output\n",
        "from matplotlib import pyplot as plt"
      ],
      "metadata": {
        "id": "_PrhF8UUH6bx"
      },
      "execution_count": 18,
      "outputs": []
    },
    {
      "cell_type": "code",
      "source": [
        "IMG_DIR = '/content/drive/MyDrive/images-ocr'"
      ],
      "metadata": {
        "id": "01sRx5CxIIOV"
      },
      "execution_count": 27,
      "outputs": []
    },
    {
      "cell_type": "markdown",
      "source": [
        "Preprocessing Images with OpenCV"
      ],
      "metadata": {
        "id": "ZgXaubsOIBv0"
      }
    },
    {
      "cell_type": "markdown",
      "source": [
        "Basic functions for various preprocessing methods, including:\n",
        "\n",
        "\n",
        "- grayscaling\n",
        "- thresholding\n",
        "- dilating\n",
        "- eroding\n",
        "- opening\n",
        "- canny edge detection\n",
        "- noise removal\n",
        "- deskwing\n",
        "- template matching\n",
        "- Item daftar"
      ],
      "metadata": {
        "id": "3E_YZ9flIPQw"
      }
    },
    {
      "cell_type": "code",
      "source": [
        "# get grayscale image\n",
        "def get_grayscale(image):\n",
        "    return cv2.cvtColor(image, cv2.COLOR_BGR2GRAY)\n",
        "\n",
        "# noise removal\n",
        "def remove_noise(image):\n",
        "    return cv2.medianBlur(image,5)\n",
        "\n",
        "#thresholding\n",
        "def thresholding(image):\n",
        "    return cv2.threshold(image, 0, 255, cv2.THRESH_BINARY + cv2.THRESH_OTSU)[1]\n",
        "\n",
        "#dilation\n",
        "def dilate(image):\n",
        "    kernel = np.ones((5,5),np.uint8)\n",
        "    return cv2.dilate(image, kernel, iterations = 1)\n",
        "\n",
        "#erosion\n",
        "def erode(image):\n",
        "    kernel = np.ones((5,5),np.uint8)\n",
        "    return cv2.erode(image, kernel, iterations = 1)\n",
        "\n",
        "#opening - erosion followed by dilation\n",
        "def opening(image):\n",
        "    kernel = np.ones((5,5),np.uint8)\n",
        "    return cv2.morphologyEx(image, cv2.MORPH_OPEN, kernel)\n",
        "\n",
        "#canny edge detection\n",
        "def canny(image):\n",
        "    return cv2.Canny(image, 100, 200)\n",
        "\n",
        "#skew correction\n",
        "def deskew(image):\n",
        "    coords = np.column_stack(np.where(image > 0))\n",
        "    angle = cv2.minAreaRect(coords)[-1]\n",
        "    if angle < -45:\n",
        "        angle = -(90 + angle)\n",
        "    else:\n",
        "        angle = -angle\n",
        "    (h, w) = image.shape[:2]\n",
        "    center = (w // 2, h // 2)\n",
        "    M = cv2.getRotationMatrix2D(center, angle, 1.0)\n",
        "    rotated = cv2.warpAffine(image, M, (w, h), flags=cv2.INTER_CUBIC, borderMode=cv2.BORDER_REPLICATE)\n",
        "    return rotated\n",
        "\n",
        "#template matching\n",
        "def match_template(image, template):\n",
        "    return cv2.matchTemplate(image, template, cv2.TM_CCOEFF_NORMED)"
      ],
      "metadata": {
        "id": "qalDn18YIULp"
      },
      "execution_count": 28,
      "outputs": []
    },
    {
      "cell_type": "code",
      "source": [
        "image = cv2.imread(IMG_DIR + 'aurebesh.jpg')\n",
        "print(image)\n",
        "\n",
        "\n",
        " #hiks pathnya masih belum bener"
      ],
      "metadata": {
        "id": "Z9DDgvEwSyhP",
        "outputId": "839104a9-89ca-4acc-d7b6-bb08d1425d64",
        "colab": {
          "base_uri": "https://localhost:8080/"
        }
      },
      "execution_count": 29,
      "outputs": [
        {
          "output_type": "stream",
          "name": "stdout",
          "text": [
            "None\n"
          ]
        }
      ]
    },
    {
      "cell_type": "code",
      "source": [
        "# Plot original image\n",
        "\n",
        "image = cv2.imread(IMG_DIR + 'aurebesh.jpg')\n",
        "b,g,r = cv2.split(image)\n",
        "rgb_img = cv2.merge([r,g,b])\n",
        "plt.imshow(rgb_img)\n",
        "plt.title('AUREBESH ORIGINAL IMAGE')\n",
        "plt.show()"
      ],
      "metadata": {
        "id": "LYRfm80LLRoR",
        "outputId": "f4069b0b-aa20-48d0-8637-9dd01466bfb8",
        "colab": {
          "base_uri": "https://localhost:8080/",
          "height": 246
        }
      },
      "execution_count": 25,
      "outputs": [
        {
          "output_type": "error",
          "ename": "ValueError",
          "evalue": "ignored",
          "traceback": [
            "\u001b[0;31m---------------------------------------------------------------------------\u001b[0m",
            "\u001b[0;31mValueError\u001b[0m                                Traceback (most recent call last)",
            "\u001b[0;32m<ipython-input-25-415e61a1d20b>\u001b[0m in \u001b[0;36m<cell line: 4>\u001b[0;34m()\u001b[0m\n\u001b[1;32m      2\u001b[0m \u001b[0;34m\u001b[0m\u001b[0m\n\u001b[1;32m      3\u001b[0m \u001b[0mimage\u001b[0m \u001b[0;34m=\u001b[0m \u001b[0mcv2\u001b[0m\u001b[0;34m.\u001b[0m\u001b[0mimread\u001b[0m\u001b[0;34m(\u001b[0m\u001b[0mIMG_DIR\u001b[0m \u001b[0;34m+\u001b[0m \u001b[0;34m'aurebesh.jpg'\u001b[0m\u001b[0;34m)\u001b[0m\u001b[0;34m\u001b[0m\u001b[0;34m\u001b[0m\u001b[0m\n\u001b[0;32m----> 4\u001b[0;31m \u001b[0mb\u001b[0m\u001b[0;34m,\u001b[0m\u001b[0mg\u001b[0m\u001b[0;34m,\u001b[0m\u001b[0mr\u001b[0m \u001b[0;34m=\u001b[0m \u001b[0mcv2\u001b[0m\u001b[0;34m.\u001b[0m\u001b[0msplit\u001b[0m\u001b[0;34m(\u001b[0m\u001b[0mimage\u001b[0m\u001b[0;34m)\u001b[0m\u001b[0;34m\u001b[0m\u001b[0;34m\u001b[0m\u001b[0m\n\u001b[0m\u001b[1;32m      5\u001b[0m \u001b[0mrgb_img\u001b[0m \u001b[0;34m=\u001b[0m \u001b[0mcv2\u001b[0m\u001b[0;34m.\u001b[0m\u001b[0mmerge\u001b[0m\u001b[0;34m(\u001b[0m\u001b[0;34m[\u001b[0m\u001b[0mr\u001b[0m\u001b[0;34m,\u001b[0m\u001b[0mg\u001b[0m\u001b[0;34m,\u001b[0m\u001b[0mb\u001b[0m\u001b[0;34m]\u001b[0m\u001b[0;34m)\u001b[0m\u001b[0;34m\u001b[0m\u001b[0;34m\u001b[0m\u001b[0m\n\u001b[1;32m      6\u001b[0m \u001b[0mplt\u001b[0m\u001b[0;34m.\u001b[0m\u001b[0mimshow\u001b[0m\u001b[0;34m(\u001b[0m\u001b[0mrgb_img\u001b[0m\u001b[0;34m)\u001b[0m\u001b[0;34m\u001b[0m\u001b[0;34m\u001b[0m\u001b[0m\n",
            "\u001b[0;31mValueError\u001b[0m: not enough values to unpack (expected 3, got 0)"
          ]
        }
      ]
    },
    {
      "cell_type": "markdown",
      "source": [
        "pre-processing"
      ],
      "metadata": {
        "id": "Y_YC4De7Se3P"
      }
    },
    {
      "cell_type": "code",
      "source": [
        "# Preprocess image\n",
        "\n",
        "gray = get_grayscale(image)\n",
        "thresh = thresholding(gray)\n",
        "opening = opening(gray)\n",
        "canny = canny(gray)\n",
        "images = {'gray': gray,\n",
        "          'thresh': thresh,\n",
        "          'opening': opening,\n",
        "          'canny': canny}"
      ],
      "metadata": {
        "id": "Zw8ec6AfSfY9"
      },
      "execution_count": null,
      "outputs": []
    },
    {
      "cell_type": "code",
      "source": [
        "# Plot images after preprocessing\n",
        "\n",
        "fig = plt.figure(figsize=(13,13))\n",
        "ax = []\n",
        "\n",
        "rows = 2\n",
        "columns = 2\n",
        "keys = list(images.keys())\n",
        "for i in range(rows*columns):\n",
        "    ax.append( fig.add_subplot(rows, columns, i+1) )\n",
        "    ax[-1].set_title('AUREBESH - ' + keys[i])\n",
        "    plt.imshow(images[keys[i]], cmap='gray')"
      ],
      "metadata": {
        "id": "Q_8PiCo9ShXz"
      },
      "execution_count": null,
      "outputs": []
    },
    {
      "cell_type": "code",
      "source": [
        "# Get OCR output using Pytesseract\n",
        "\n",
        "custom_config = r'--oem 3 --psm 6'\n",
        "print('-----------------------------------------')\n",
        "print('TESSERACT OUTPUT --> ORIGINAL IMAGE')\n",
        "print('-----------------------------------------')\n",
        "print(pytesseract.image_to_string(image, config=custom_config))\n",
        "print('\\n-----------------------------------------')\n",
        "print('TESSERACT OUTPUT --> THRESHOLDED IMAGE')\n",
        "print('-----------------------------------------')\n",
        "print(pytesseract.image_to_string(image, config=custom_config))\n",
        "print('\\n-----------------------------------------')\n",
        "print('TESSERACT OUTPUT --> OPENED IMAGE')\n",
        "print('-----------------------------------------')\n",
        "print(pytesseract.image_to_string(image, config=custom_config))\n",
        "print('\\n-----------------------------------------')\n",
        "print('TESSERACT OUTPUT --> CANNY EDGE IMAGE')\n",
        "print('-----------------------------------------')\n",
        "print(pytesseract.image_to_string(image, config=custom_config))"
      ],
      "metadata": {
        "id": "1NrjqpGGSi_u"
      },
      "execution_count": null,
      "outputs": []
    },
    {
      "cell_type": "markdown",
      "source": [
        "-----------------------------------------\n",
        "TESSERACT OUTPUT --> ORIGINAL IMAGE\n",
        "-----------------------------------------\n",
        "GALACTIC BASIC\n",
        "(AUREBESH)\n",
        "\n",
        "RE TFVMVEVEStZIoNe\n",
        "AB CD EF Ga KL\n",
        "AOderT7NVYoYoOoOAVA\n",
        "N_ Oo. 2 _ HG: Re SS Ty wee Ve\n",
        "Ss eg ei\n",
        "ed\n",
        "i a a Sy ee ee ee\n",
        "st\n",
        "ASaSAnNADIE\n",
        "CH AE EO KH NG OO SH TH\n",
        "\n",
        "\n",
        "-----------------------------------------\n",
        "TESSERACT OUTPUT --> THRESHOLDED IMAGE\n",
        "-----------------------------------------\n",
        "GALACTIC BASIC\n",
        "(AUREBESH)\n",
        "\n",
        "RE TFVMVEVEStZIoNe\n",
        "AB CD EF Ga KL\n",
        "AOderT7NVYoYoOoOAVA\n",
        "N_ Oo. 2 _ HG: Re SS Ty wee Ve\n",
        "Ss eg ei\n",
        "ed\n",
        "i a a Sy ee ee ee\n",
        "st\n",
        "ASaSAnNADIE\n",
        "CH AE EO KH NG OO SH TH\n",
        "\n",
        "\n",
        "-----------------------------------------\n",
        "TESSERACT OUTPUT --> OPENED IMAGE\n",
        "-----------------------------------------\n",
        "GALACTIC BASIC\n",
        "(AUREBESH)\n",
        "\n",
        "RE TFVMVEVEStZIoNe\n",
        "AB CD EF Ga KL\n",
        "AOderT7NVYoYoOoOAVA\n",
        "N_ Oo. 2 _ HG: Re SS Ty wee Ve\n",
        "Ss eg ei\n",
        "ed\n",
        "i a a Sy ee ee ee\n",
        "st\n",
        "ASaSAnNADIE\n",
        "CH AE EO KH NG OO SH TH\n",
        "\n",
        "\n",
        "-----------------------------------------\n",
        "TESSERACT OUTPUT --> CANNY EDGE IMAGE\n",
        "-----------------------------------------\n",
        "GALACTIC BASIC\n",
        "(AUREBESH)\n",
        "\n",
        "RE TFVMVEVEStZIoNe\n",
        "AB CD EF Ga KL\n",
        "AOderT7NVYoYoOoOAVA\n",
        "N_ Oo. 2 _ HG: Re SS Ty wee Ve\n",
        "Ss eg ei\n",
        "ed\n",
        "i a a Sy ee ee ee\n",
        "st\n",
        "ASaSAnNADIE\n",
        "CH AE EO KH NG OO SH TH"
      ],
      "metadata": {
        "id": "HOqt8VeUSorZ"
      }
    },
    {
      "cell_type": "code",
      "source": [],
      "metadata": {
        "id": "nRHZU770SkUj"
      },
      "execution_count": null,
      "outputs": []
    }
  ]
}