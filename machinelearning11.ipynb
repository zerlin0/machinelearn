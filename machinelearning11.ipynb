{
  "nbformat": 4,
  "nbformat_minor": 0,
  "metadata": {
    "colab": {
      "provenance": [],
      "authorship_tag": "ABX9TyNOlp0tYx5O4bMvUbLNUSfQ",
      "include_colab_link": true
    },
    "kernelspec": {
      "name": "python3",
      "display_name": "Python 3"
    },
    "language_info": {
      "name": "python"
    }
  },
  "cells": [
    {
      "cell_type": "markdown",
      "metadata": {
        "id": "view-in-github",
        "colab_type": "text"
      },
      "source": [
        "<a href=\"https://colab.research.google.com/github/zerlin0/machinelearn/blob/main/machinelearning11.ipynb\" target=\"_parent\"><img src=\"https://colab.research.google.com/assets/colab-badge.svg\" alt=\"Open In Colab\"/></a>"
      ]
    },
    {
      "cell_type": "markdown",
      "source": [
        "# **Lab Work 1**\n",
        "\n",
        "**Convolutional Neural Network (CNN)**\n",
        "\n",
        "A Convolutional Neural Network (CNN), also commonly known as ConvNet, is a special type of Artificial Neural Network (ANN) that excels at generalizing data. This relates to CNN's ability to recognize abstract features in a hierarchical manner, allowing it to identify objects more effectively. This process is due to the fact that in CNN, data is processed using a grid topology. For example, in time series data, it is learned using a 1-dimensional (1D) grid over a specific time range, or in the case of an image, the image is learned using a 2-dimensional (2D) grid."
      ],
      "metadata": {
        "id": "7gwTZaFg6D12"
      }
    },
    {
      "cell_type": "markdown",
      "source": [
        "**The Use of CNN**\n",
        "1. Weight Sharing\n",
        "2. Sequential Feature Extraction and Classification\n",
        "3. Implementation Complexity\n",
        "4. Versatile Applications\n",
        "\n",
        "**The Anatomy of CNN**\n",
        "1. Convolutional Block\n",
        "2. Fully Connected Block\n",
        "\n"
      ],
      "metadata": {
        "id": "o4ZkDVTz6aiK"
      }
    },
    {
      "cell_type": "markdown",
      "source": [
        "Step 1 - Import Library"
      ],
      "metadata": {
        "id": "lWMv9ZjO8yUW"
      }
    },
    {
      "cell_type": "code",
      "execution_count": null,
      "metadata": {
        "id": "MRVlp7bo5udz"
      },
      "outputs": [],
      "source": [
        "import tensorflow as tf\n",
        "from keras.preprocessing.image import ImageDataGenerator"
      ]
    },
    {
      "cell_type": "markdown",
      "source": [
        "Step 2 - Pre Processing\n",
        "\n",
        "In this stage, we will perform some image manipulations on the images used. The manipulations include pixel value normalization, tilt correction, enlargement (zoom), and flipping."
      ],
      "metadata": {
        "id": "n3pvk64k8z8O"
      }
    },
    {
      "cell_type": "markdown",
      "source": [
        "Step 2.1. Training Data Pre Processing"
      ],
      "metadata": {
        "id": "G6DnL8nD85XD"
      }
    },
    {
      "cell_type": "code",
      "source": [
        "train_datagen = ImageDataGenerator(rescale = 1./255,\n",
        "                                   shear_range = 0.2,\n",
        "                                   zoom_range = 0.2,\n",
        "                                   horizontal_flip = True)\n",
        "training_set = train_datagen.flow_from_directory('dataset/training_set',\n",
        "                                                 target_size = (64, 64),\n",
        "                                                 batch_size = 32,\n",
        "                                                 class_mode = 'binary')"
      ],
      "metadata": {
        "id": "DAUJvpFP7HIo"
      },
      "execution_count": null,
      "outputs": []
    },
    {
      "cell_type": "markdown",
      "source": [
        "Step 2.2. Testing Data Pre Processing"
      ],
      "metadata": {
        "id": "s2ah1PGL88TC"
      }
    },
    {
      "cell_type": "code",
      "source": [
        "test_datagen = ImageDataGenerator(rescale = 1./255)\n",
        "test_set = test_datagen.flow_from_directory('dataset/test_set',\n",
        "                                            target_size = (64, 64),\n",
        "                                            batch_size = 32,\n",
        "                                            class_mode = 'binary')"
      ],
      "metadata": {
        "id": "ad8_qb7H9AqJ"
      },
      "execution_count": null,
      "outputs": []
    },
    {
      "cell_type": "markdown",
      "source": [
        "Step 3 - Build CNN Model"
      ],
      "metadata": {
        "id": "7DkASmxG9C1v"
      }
    },
    {
      "cell_type": "markdown",
      "source": [
        "Step 3.1. - CNN Model Initialization"
      ],
      "metadata": {
        "id": "89HyrlLk9Etr"
      }
    },
    {
      "cell_type": "code",
      "source": [
        "cnn = tf.keras.models.Sequential()"
      ],
      "metadata": {
        "id": "rTELVFDQ9FRo"
      },
      "execution_count": null,
      "outputs": []
    },
    {
      "cell_type": "markdown",
      "source": [
        "Step 3.2. - Add 1st Convolutional Layer"
      ],
      "metadata": {
        "id": "PShR2Hj79HQB"
      }
    },
    {
      "cell_type": "code",
      "source": [
        "cnn.add(tf.keras.layers.Conv2D(filters=32, kernel_size=3, activation='relu', input_shape=[64, 64, 3]))"
      ],
      "metadata": {
        "id": "cnWgVVEU9Hzp"
      },
      "execution_count": null,
      "outputs": []
    },
    {
      "cell_type": "markdown",
      "source": [
        "Step 3.3. - Add 1st Pooling Layer"
      ],
      "metadata": {
        "id": "Uc60oHfW9LR9"
      }
    },
    {
      "cell_type": "code",
      "source": [
        "cnn.add(tf.keras.layers.MaxPool2D(pool_size=2, strides=2))"
      ],
      "metadata": {
        "id": "Nf0kZZNC9MNC"
      },
      "execution_count": null,
      "outputs": []
    },
    {
      "cell_type": "markdown",
      "source": [
        "Step 3.4. - Add 2nd Convolutional Layer and Pooling Laye"
      ],
      "metadata": {
        "id": "ZZBaXTIl9O_F"
      }
    },
    {
      "cell_type": "code",
      "source": [
        "cnn.add(tf.keras.layers.Conv2D(filters=32, kernel_size=3, activation='relu'))\n",
        "cnn.add(tf.keras.layers.MaxPool2D(pool_size=2, strides=2))"
      ],
      "metadata": {
        "id": "bjAAt7l99P2d"
      },
      "execution_count": null,
      "outputs": []
    },
    {
      "cell_type": "markdown",
      "source": [
        "Step 3.5. - Flattening"
      ],
      "metadata": {
        "id": "aWb83mCA9Szz"
      }
    },
    {
      "cell_type": "code",
      "source": [
        "cnn.add(tf.keras.layers.Flatten())"
      ],
      "metadata": {
        "id": "HeEzSTki9SPp"
      },
      "execution_count": null,
      "outputs": []
    },
    {
      "cell_type": "markdown",
      "source": [
        "Step 3.6. - Add Fully Connected Layer (Input and 1st Hidden Layer)"
      ],
      "metadata": {
        "id": "3l--bXCt9aqY"
      }
    },
    {
      "cell_type": "code",
      "source": [
        "cnn.add(tf.keras.layers.Dense(units=128, activation='relu'))"
      ],
      "metadata": {
        "id": "IcJgZQ6I9b3w"
      },
      "execution_count": null,
      "outputs": []
    },
    {
      "cell_type": "markdown",
      "source": [
        "Step 3.7. Add Fully Connected Layer (The Output Layer)"
      ],
      "metadata": {
        "id": "u_ETDg_k9dbV"
      }
    },
    {
      "cell_type": "code",
      "source": [
        "cnn.add(tf.keras.layers.Dense(units=1, activation='sigmoid'))"
      ],
      "metadata": {
        "id": "jUmxYHBL9ffV"
      },
      "execution_count": null,
      "outputs": []
    },
    {
      "cell_type": "markdown",
      "source": [
        "Step 3.8. - Compile CNN Model"
      ],
      "metadata": {
        "id": "VuBt6RVN9i7O"
      }
    },
    {
      "cell_type": "code",
      "source": [
        "cnn.compile(optimizer = 'adam', loss = 'binary_crossentropy', metrics = ['accuracy'])"
      ],
      "metadata": {
        "id": "pfgeKf-K9ipJ"
      },
      "execution_count": null,
      "outputs": []
    },
    {
      "cell_type": "markdown",
      "source": [
        "Step 4 - Train CNN Model"
      ],
      "metadata": {
        "id": "eSUMs4Er9l30"
      }
    },
    {
      "cell_type": "code",
      "source": [
        "cnn.fit(x = training_set, validation_data = test_set, epochs = 25)"
      ],
      "metadata": {
        "id": "5C1VZ2Ff9mfC"
      },
      "execution_count": null,
      "outputs": []
    },
    {
      "cell_type": "markdown",
      "source": [
        "Step 5 - Perform Single Prediction"
      ],
      "metadata": {
        "id": "dVx5jKvm9o5y"
      }
    },
    {
      "cell_type": "code",
      "source": [
        "import numpy as np\n",
        "from keras.preprocessing import image\n",
        "test_image = image.load_img('dataset/single_prediction/cat_or_dog_1.jpg', target_size = (64, 64))\n",
        "test_image = image.img_to_array(test_image)\n",
        "test_image = np.expand_dims(test_image, axis = 0)\n",
        "result = cnn.predict(test_image)\n",
        "training_set.class_indices\n",
        "if result[0][0] == 1:\n",
        "  prediction = 'dog'\n",
        "else:\n",
        "  prediction = 'cat'"
      ],
      "metadata": {
        "id": "Ds-1sVCq9p2e"
      },
      "execution_count": null,
      "outputs": []
    }
  ]
}